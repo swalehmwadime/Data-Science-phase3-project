{
 "cells": [
  {
   "attachments": {},
   "cell_type": "markdown",
   "metadata": {},
   "source": [
    "<h1><u><b>PREDICT FLIGHT DELAYS<u><b><h1>  "
   ]
  },
  {
   "cell_type": "code",
   "execution_count": 8,
   "metadata": {},
   "outputs": [],
   "source": [
    "import numpy as np # linear algebra\n",
    "import pandas as pd # data processing, CSV file I/O (e.g. pd.read_csv)"
   ]
  },
  {
   "attachments": {},
   "cell_type": "markdown",
   "metadata": {},
   "source": [
    "<h2><u><b>Data cleaning & preparation</b></u></h2>"
   ]
  },
  {
   "cell_type": "code",
   "execution_count": 9,
   "metadata": {
    "execution": {
     "iopub.execute_input": "2023-03-06T08:25:54.786246Z",
     "iopub.status.busy": "2023-03-06T08:25:54.785863Z",
     "iopub.status.idle": "2023-03-06T08:25:55.60516Z",
     "shell.execute_reply": "2023-03-06T08:25:55.602931Z",
     "shell.execute_reply.started": "2023-03-06T08:25:54.786212Z"
    }
   },
   "outputs": [],
   "source": [
    "#import the dataset\n",
    "dataset = pd.read_csv('airlines_delay.csv')"
   ]
  },
  {
   "cell_type": "code",
   "execution_count": 10,
   "metadata": {
    "execution": {
     "iopub.execute_input": "2023-03-06T08:25:56.637395Z",
     "iopub.status.busy": "2023-03-06T08:25:56.636251Z",
     "iopub.status.idle": "2023-03-06T08:25:56.663678Z",
     "shell.execute_reply": "2023-03-06T08:25:56.661918Z",
     "shell.execute_reply.started": "2023-03-06T08:25:56.637331Z"
    }
   },
   "outputs": [
    {
     "data": {
      "text/html": [
       "<div>\n",
       "<style scoped>\n",
       "    .dataframe tbody tr th:only-of-type {\n",
       "        vertical-align: middle;\n",
       "    }\n",
       "\n",
       "    .dataframe tbody tr th {\n",
       "        vertical-align: top;\n",
       "    }\n",
       "\n",
       "    .dataframe thead th {\n",
       "        text-align: right;\n",
       "    }\n",
       "</style>\n",
       "<table border=\"1\" class=\"dataframe\">\n",
       "  <thead>\n",
       "    <tr style=\"text-align: right;\">\n",
       "      <th></th>\n",
       "      <th>Flight</th>\n",
       "      <th>Time</th>\n",
       "      <th>Length</th>\n",
       "      <th>Airline</th>\n",
       "      <th>AirportFrom</th>\n",
       "      <th>AirportTo</th>\n",
       "      <th>DayOfWeek</th>\n",
       "      <th>Class</th>\n",
       "    </tr>\n",
       "  </thead>\n",
       "  <tbody>\n",
       "    <tr>\n",
       "      <th>0</th>\n",
       "      <td>2313.0</td>\n",
       "      <td>1296.0</td>\n",
       "      <td>141.0</td>\n",
       "      <td>DL</td>\n",
       "      <td>ATL</td>\n",
       "      <td>HOU</td>\n",
       "      <td>1</td>\n",
       "      <td>0</td>\n",
       "    </tr>\n",
       "    <tr>\n",
       "      <th>1</th>\n",
       "      <td>6948.0</td>\n",
       "      <td>360.0</td>\n",
       "      <td>146.0</td>\n",
       "      <td>OO</td>\n",
       "      <td>COS</td>\n",
       "      <td>ORD</td>\n",
       "      <td>4</td>\n",
       "      <td>0</td>\n",
       "    </tr>\n",
       "    <tr>\n",
       "      <th>2</th>\n",
       "      <td>1247.0</td>\n",
       "      <td>1170.0</td>\n",
       "      <td>143.0</td>\n",
       "      <td>B6</td>\n",
       "      <td>BOS</td>\n",
       "      <td>CLT</td>\n",
       "      <td>3</td>\n",
       "      <td>0</td>\n",
       "    </tr>\n",
       "    <tr>\n",
       "      <th>3</th>\n",
       "      <td>31.0</td>\n",
       "      <td>1410.0</td>\n",
       "      <td>344.0</td>\n",
       "      <td>US</td>\n",
       "      <td>OGG</td>\n",
       "      <td>PHX</td>\n",
       "      <td>6</td>\n",
       "      <td>0</td>\n",
       "    </tr>\n",
       "    <tr>\n",
       "      <th>4</th>\n",
       "      <td>563.0</td>\n",
       "      <td>692.0</td>\n",
       "      <td>98.0</td>\n",
       "      <td>FL</td>\n",
       "      <td>BMI</td>\n",
       "      <td>ATL</td>\n",
       "      <td>4</td>\n",
       "      <td>0</td>\n",
       "    </tr>\n",
       "  </tbody>\n",
       "</table>\n",
       "</div>"
      ],
      "text/plain": [
       "   Flight    Time  Length Airline AirportFrom AirportTo  DayOfWeek  Class\n",
       "0  2313.0  1296.0   141.0      DL         ATL       HOU          1      0\n",
       "1  6948.0   360.0   146.0      OO         COS       ORD          4      0\n",
       "2  1247.0  1170.0   143.0      B6         BOS       CLT          3      0\n",
       "3    31.0  1410.0   344.0      US         OGG       PHX          6      0\n",
       "4   563.0   692.0    98.0      FL         BMI       ATL          4      0"
      ]
     },
     "execution_count": 10,
     "metadata": {},
     "output_type": "execute_result"
    }
   ],
   "source": [
    "#Look at first 5 rows\n",
    "dataset.head()"
   ]
  },
  {
   "cell_type": "code",
   "execution_count": 11,
   "metadata": {
    "execution": {
     "iopub.execute_input": "2023-03-06T08:26:00.029917Z",
     "iopub.status.busy": "2023-03-06T08:26:00.029428Z",
     "iopub.status.idle": "2023-03-06T08:26:00.054213Z",
     "shell.execute_reply": "2023-03-06T08:26:00.0522Z",
     "shell.execute_reply.started": "2023-03-06T08:26:00.02988Z"
    }
   },
   "outputs": [
    {
     "data": {
      "text/html": [
       "<div>\n",
       "<style scoped>\n",
       "    .dataframe tbody tr th:only-of-type {\n",
       "        vertical-align: middle;\n",
       "    }\n",
       "\n",
       "    .dataframe tbody tr th {\n",
       "        vertical-align: top;\n",
       "    }\n",
       "\n",
       "    .dataframe thead th {\n",
       "        text-align: right;\n",
       "    }\n",
       "</style>\n",
       "<table border=\"1\" class=\"dataframe\">\n",
       "  <thead>\n",
       "    <tr style=\"text-align: right;\">\n",
       "      <th></th>\n",
       "      <th>Time</th>\n",
       "      <th>Length</th>\n",
       "      <th>Airline</th>\n",
       "      <th>AirportFrom</th>\n",
       "      <th>AirportTo</th>\n",
       "      <th>DayOfWeek</th>\n",
       "      <th>Class</th>\n",
       "    </tr>\n",
       "    <tr>\n",
       "      <th>Flight</th>\n",
       "      <th></th>\n",
       "      <th></th>\n",
       "      <th></th>\n",
       "      <th></th>\n",
       "      <th></th>\n",
       "      <th></th>\n",
       "      <th></th>\n",
       "    </tr>\n",
       "  </thead>\n",
       "  <tbody>\n",
       "    <tr>\n",
       "      <th>2313.0</th>\n",
       "      <td>1296.0</td>\n",
       "      <td>141.0</td>\n",
       "      <td>DL</td>\n",
       "      <td>ATL</td>\n",
       "      <td>HOU</td>\n",
       "      <td>1</td>\n",
       "      <td>0</td>\n",
       "    </tr>\n",
       "    <tr>\n",
       "      <th>6948.0</th>\n",
       "      <td>360.0</td>\n",
       "      <td>146.0</td>\n",
       "      <td>OO</td>\n",
       "      <td>COS</td>\n",
       "      <td>ORD</td>\n",
       "      <td>4</td>\n",
       "      <td>0</td>\n",
       "    </tr>\n",
       "    <tr>\n",
       "      <th>1247.0</th>\n",
       "      <td>1170.0</td>\n",
       "      <td>143.0</td>\n",
       "      <td>B6</td>\n",
       "      <td>BOS</td>\n",
       "      <td>CLT</td>\n",
       "      <td>3</td>\n",
       "      <td>0</td>\n",
       "    </tr>\n",
       "    <tr>\n",
       "      <th>31.0</th>\n",
       "      <td>1410.0</td>\n",
       "      <td>344.0</td>\n",
       "      <td>US</td>\n",
       "      <td>OGG</td>\n",
       "      <td>PHX</td>\n",
       "      <td>6</td>\n",
       "      <td>0</td>\n",
       "    </tr>\n",
       "    <tr>\n",
       "      <th>563.0</th>\n",
       "      <td>692.0</td>\n",
       "      <td>98.0</td>\n",
       "      <td>FL</td>\n",
       "      <td>BMI</td>\n",
       "      <td>ATL</td>\n",
       "      <td>4</td>\n",
       "      <td>0</td>\n",
       "    </tr>\n",
       "  </tbody>\n",
       "</table>\n",
       "</div>"
      ],
      "text/plain": [
       "          Time  Length Airline AirportFrom AirportTo  DayOfWeek  Class\n",
       "Flight                                                                \n",
       "2313.0  1296.0   141.0      DL         ATL       HOU          1      0\n",
       "6948.0   360.0   146.0      OO         COS       ORD          4      0\n",
       "1247.0  1170.0   143.0      B6         BOS       CLT          3      0\n",
       "31.0    1410.0   344.0      US         OGG       PHX          6      0\n",
       "563.0    692.0    98.0      FL         BMI       ATL          4      0"
      ]
     },
     "execution_count": 11,
     "metadata": {},
     "output_type": "execute_result"
    }
   ],
   "source": [
    "#set Flight column as index\n",
    "dataset.set_index('Flight',inplace=True)\n",
    "dataset.head()"
   ]
  },
  {
   "attachments": {},
   "cell_type": "markdown",
   "metadata": {},
   "source": [
    "**We have the following features:<br/>\n",
    "Numerical:** Time, and Length<br/>\n",
    "**Categorical:** Time, Airline, AirportFrom, AirportTo, and DayOfWeek<br/>\n",
    "**Note: we have assumed Time to be a numerical variable rather than a categorical one. We could have done the opposite as well, i.e. for this problem I do not see one as better than the other.**"
   ]
  },
  {
   "cell_type": "code",
   "execution_count": 13,
   "metadata": {
    "execution": {
     "iopub.execute_input": "2023-03-06T08:26:04.804052Z",
     "iopub.status.busy": "2023-03-06T08:26:04.803674Z",
     "iopub.status.idle": "2023-03-06T08:26:04.813048Z",
     "shell.execute_reply": "2023-03-06T08:26:04.811801Z",
     "shell.execute_reply.started": "2023-03-06T08:26:04.80402Z"
    }
   },
   "outputs": [
    {
     "data": {
      "text/plain": [
       "Time           float64\n",
       "Length         float64\n",
       "Airline         object\n",
       "AirportFrom     object\n",
       "AirportTo       object\n",
       "DayOfWeek        int64\n",
       "Class            int64\n",
       "dtype: object"
      ]
     },
     "execution_count": 13,
     "metadata": {},
     "output_type": "execute_result"
    }
   ],
   "source": [
    "#Let's look at the columns and their data type\n",
    "dataset.dtypes"
   ]
  },
  {
   "cell_type": "code",
   "execution_count": 14,
   "metadata": {},
   "outputs": [
    {
     "data": {
      "text/html": [
       "<div>\n",
       "<style scoped>\n",
       "    .dataframe tbody tr th:only-of-type {\n",
       "        vertical-align: middle;\n",
       "    }\n",
       "\n",
       "    .dataframe tbody tr th {\n",
       "        vertical-align: top;\n",
       "    }\n",
       "\n",
       "    .dataframe thead th {\n",
       "        text-align: right;\n",
       "    }\n",
       "</style>\n",
       "<table border=\"1\" class=\"dataframe\">\n",
       "  <thead>\n",
       "    <tr style=\"text-align: right;\">\n",
       "      <th></th>\n",
       "      <th>Time</th>\n",
       "      <th>Length</th>\n",
       "      <th>Airline</th>\n",
       "      <th>AirportFrom</th>\n",
       "      <th>AirportTo</th>\n",
       "      <th>DayOfWeek</th>\n",
       "      <th>Class</th>\n",
       "    </tr>\n",
       "  </thead>\n",
       "  <tbody>\n",
       "    <tr>\n",
       "      <th>count</th>\n",
       "      <td>539382.000000</td>\n",
       "      <td>539382.000000</td>\n",
       "      <td>539382</td>\n",
       "      <td>539382</td>\n",
       "      <td>539382</td>\n",
       "      <td>539382.000000</td>\n",
       "      <td>539382.000000</td>\n",
       "    </tr>\n",
       "    <tr>\n",
       "      <th>unique</th>\n",
       "      <td>NaN</td>\n",
       "      <td>NaN</td>\n",
       "      <td>18</td>\n",
       "      <td>293</td>\n",
       "      <td>293</td>\n",
       "      <td>NaN</td>\n",
       "      <td>NaN</td>\n",
       "    </tr>\n",
       "    <tr>\n",
       "      <th>top</th>\n",
       "      <td>NaN</td>\n",
       "      <td>NaN</td>\n",
       "      <td>WN</td>\n",
       "      <td>ATL</td>\n",
       "      <td>ATL</td>\n",
       "      <td>NaN</td>\n",
       "      <td>NaN</td>\n",
       "    </tr>\n",
       "    <tr>\n",
       "      <th>freq</th>\n",
       "      <td>NaN</td>\n",
       "      <td>NaN</td>\n",
       "      <td>94097</td>\n",
       "      <td>34449</td>\n",
       "      <td>34440</td>\n",
       "      <td>NaN</td>\n",
       "      <td>NaN</td>\n",
       "    </tr>\n",
       "    <tr>\n",
       "      <th>mean</th>\n",
       "      <td>802.728161</td>\n",
       "      <td>132.202104</td>\n",
       "      <td>NaN</td>\n",
       "      <td>NaN</td>\n",
       "      <td>NaN</td>\n",
       "      <td>3.929666</td>\n",
       "      <td>0.445443</td>\n",
       "    </tr>\n",
       "    <tr>\n",
       "      <th>std</th>\n",
       "      <td>278.045546</td>\n",
       "      <td>70.117045</td>\n",
       "      <td>NaN</td>\n",
       "      <td>NaN</td>\n",
       "      <td>NaN</td>\n",
       "      <td>1.914666</td>\n",
       "      <td>0.497015</td>\n",
       "    </tr>\n",
       "    <tr>\n",
       "      <th>min</th>\n",
       "      <td>10.000000</td>\n",
       "      <td>0.000000</td>\n",
       "      <td>NaN</td>\n",
       "      <td>NaN</td>\n",
       "      <td>NaN</td>\n",
       "      <td>1.000000</td>\n",
       "      <td>0.000000</td>\n",
       "    </tr>\n",
       "    <tr>\n",
       "      <th>25%</th>\n",
       "      <td>565.000000</td>\n",
       "      <td>81.000000</td>\n",
       "      <td>NaN</td>\n",
       "      <td>NaN</td>\n",
       "      <td>NaN</td>\n",
       "      <td>2.000000</td>\n",
       "      <td>0.000000</td>\n",
       "    </tr>\n",
       "    <tr>\n",
       "      <th>50%</th>\n",
       "      <td>795.000000</td>\n",
       "      <td>115.000000</td>\n",
       "      <td>NaN</td>\n",
       "      <td>NaN</td>\n",
       "      <td>NaN</td>\n",
       "      <td>4.000000</td>\n",
       "      <td>0.000000</td>\n",
       "    </tr>\n",
       "    <tr>\n",
       "      <th>75%</th>\n",
       "      <td>1035.000000</td>\n",
       "      <td>162.000000</td>\n",
       "      <td>NaN</td>\n",
       "      <td>NaN</td>\n",
       "      <td>NaN</td>\n",
       "      <td>5.000000</td>\n",
       "      <td>1.000000</td>\n",
       "    </tr>\n",
       "    <tr>\n",
       "      <th>max</th>\n",
       "      <td>1439.000000</td>\n",
       "      <td>655.000000</td>\n",
       "      <td>NaN</td>\n",
       "      <td>NaN</td>\n",
       "      <td>NaN</td>\n",
       "      <td>7.000000</td>\n",
       "      <td>1.000000</td>\n",
       "    </tr>\n",
       "  </tbody>\n",
       "</table>\n",
       "</div>"
      ],
      "text/plain": [
       "                 Time         Length Airline AirportFrom AirportTo  \\\n",
       "count   539382.000000  539382.000000  539382      539382    539382   \n",
       "unique            NaN            NaN      18         293       293   \n",
       "top               NaN            NaN      WN         ATL       ATL   \n",
       "freq              NaN            NaN   94097       34449     34440   \n",
       "mean       802.728161     132.202104     NaN         NaN       NaN   \n",
       "std        278.045546      70.117045     NaN         NaN       NaN   \n",
       "min         10.000000       0.000000     NaN         NaN       NaN   \n",
       "25%        565.000000      81.000000     NaN         NaN       NaN   \n",
       "50%        795.000000     115.000000     NaN         NaN       NaN   \n",
       "75%       1035.000000     162.000000     NaN         NaN       NaN   \n",
       "max       1439.000000     655.000000     NaN         NaN       NaN   \n",
       "\n",
       "            DayOfWeek          Class  \n",
       "count   539382.000000  539382.000000  \n",
       "unique            NaN            NaN  \n",
       "top               NaN            NaN  \n",
       "freq              NaN            NaN  \n",
       "mean         3.929666       0.445443  \n",
       "std          1.914666       0.497015  \n",
       "min          1.000000       0.000000  \n",
       "25%          2.000000       0.000000  \n",
       "50%          4.000000       0.000000  \n",
       "75%          5.000000       1.000000  \n",
       "max          7.000000       1.000000  "
      ]
     },
     "execution_count": 14,
     "metadata": {},
     "output_type": "execute_result"
    }
   ],
   "source": [
    "#collecting statistical informations of columns\n",
    "dataset.describe(include='all')"
   ]
  },
  {
   "cell_type": "code",
   "execution_count": 16,
   "metadata": {},
   "outputs": [
    {
     "data": {
      "text/plain": [
       "<AxesSubplot:>"
      ]
     },
     "execution_count": 16,
     "metadata": {},
     "output_type": "execute_result"
    },
    {
     "data": {
      "image/png": "[encoded data removed]",
      "text/plain": [
       "<Figure size 640x480 with 1 Axes>"
      ]
     },
     "metadata": {},
     "output_type": "display_data"
    }
   ],
   "source": [
    "#check for Outliers\n",
    "dataset.plot(kind='box')\n",
    "#length has some outliers"
   ]
  },
  {
   "cell_type": "code",
   "execution_count": 17,
   "metadata": {
    "execution": {
     "iopub.execute_input": "2023-03-06T08:26:07.833228Z",
     "iopub.status.busy": "2023-03-06T08:26:07.83286Z",
     "iopub.status.idle": "2023-03-06T08:26:07.988208Z",
     "shell.execute_reply": "2023-03-06T08:26:07.987111Z",
     "shell.execute_reply.started": "2023-03-06T08:26:07.833196Z"
    }
   },
   "outputs": [
    {
     "data": {
      "text/plain": [
       "Time            float64\n",
       "Length          float64\n",
       "Airline        category\n",
       "AirportFrom    category\n",
       "AirportTo      category\n",
       "DayOfWeek      category\n",
       "Class             int64\n",
       "dtype: object"
      ]
     },
     "execution_count": 17,
     "metadata": {},
     "output_type": "execute_result"
    }
   ],
   "source": [
    "#change categorical columns to be a category data type\n",
    "for col in dataset.columns:\n",
    "    if col in ['Time','Length','Class']:\n",
    "        next\n",
    "    else:\n",
    "        dataset[col] = dataset[col].astype('category')\n",
    "dataset.dtypes"
   ]
  },
  {
   "cell_type": "code",
   "execution_count": 18,
   "metadata": {
    "execution": {
     "iopub.execute_input": "2023-03-06T08:26:11.036426Z",
     "iopub.status.busy": "2023-03-06T08:26:11.034487Z",
     "iopub.status.idle": "2023-03-06T08:26:11.044101Z",
     "shell.execute_reply": "2023-03-06T08:26:11.042705Z",
     "shell.execute_reply.started": "2023-03-06T08:26:11.036355Z"
    }
   },
   "outputs": [
    {
     "data": {
      "text/plain": [
       "(539382, 7)"
      ]
     },
     "execution_count": 18,
     "metadata": {},
     "output_type": "execute_result"
    }
   ],
   "source": [
    "#Let's see the size of our dataset\n",
    "dataset.shape"
   ]
  },
  {
   "cell_type": "code",
   "execution_count": 19,
   "metadata": {},
   "outputs": [
    {
     "name": "stdout",
     "output_type": "stream",
     "text": [
      "Class distribution:\n",
      "0    299118\n",
      "1    240264\n",
      "Name: Class, dtype: int64\n"
     ]
    }
   ],
   "source": [
    "# Count the number of instances in each class\n",
    "class_counts = dataset['Class'].value_counts()\n",
    "\n",
    "# Print the class distribution \n",
    "print('Class distribution:')\n",
    "print(class_counts)"
   ]
  },
  {
   "cell_type": "code",
   "execution_count": 20,
   "metadata": {},
   "outputs": [
    {
     "data": {
      "text/plain": [
       "0    0.554557\n",
       "1    0.445443\n",
       "Name: Class, dtype: float64"
      ]
     },
     "execution_count": 20,
     "metadata": {},
     "output_type": "execute_result"
    }
   ],
   "source": [
    "\n",
    "dataset['Class'].value_counts()/dataset['Class'].value_counts().sum()\n",
    "#The target variable, that is 'classes' are almost balanced"
   ]
  },
  {
   "attachments": {},
   "cell_type": "markdown",
   "metadata": {},
   "source": [
    "**We have 539382 rows and 7 columns**"
   ]
  },
  {
   "cell_type": "code",
   "execution_count": 21,
   "metadata": {
    "execution": {
     "iopub.execute_input": "2023-03-06T08:26:14.154831Z",
     "iopub.status.busy": "2023-03-06T08:26:14.154442Z",
     "iopub.status.idle": "2023-03-06T08:26:14.172551Z",
     "shell.execute_reply": "2023-03-06T08:26:14.171842Z",
     "shell.execute_reply.started": "2023-03-06T08:26:14.1548Z"
    }
   },
   "outputs": [
    {
     "data": {
      "text/plain": [
       "Time           0\n",
       "Length         0\n",
       "Airline        0\n",
       "AirportFrom    0\n",
       "AirportTo      0\n",
       "DayOfWeek      0\n",
       "Class          0\n",
       "dtype: int64"
      ]
     },
     "execution_count": 21,
     "metadata": {},
     "output_type": "execute_result"
    }
   ],
   "source": [
    "#Let's see how many NaN values there are throughout our dataset\n",
    "dataset.isnull().sum()"
   ]
  },
  {
   "attachments": {},
   "cell_type": "markdown",
   "metadata": {},
   "source": [
    "**We have no missing data! We will now move onto EDA.**"
   ]
  },
  {
   "attachments": {},
   "cell_type": "markdown",
   "metadata": {},
   "source": [
    "<h1><u><b>Exploratory Data Analysis</b></u></h1>"
   ]
  },
  {
   "cell_type": "code",
   "execution_count": 22,
   "metadata": {
    "execution": {
     "iopub.execute_input": "2023-03-06T08:26:17.384649Z",
     "iopub.status.busy": "2023-03-06T08:26:17.384185Z",
     "iopub.status.idle": "2023-03-06T08:26:17.94523Z",
     "shell.execute_reply": "2023-03-06T08:26:17.944196Z",
     "shell.execute_reply.started": "2023-03-06T08:26:17.384611Z"
    }
   },
   "outputs": [],
   "source": [
    "#import libraries\n",
    "import matplotlib.pyplot as plt\n",
    "import seaborn as sns\n",
    "%matplotlib inline"
   ]
  },
  {
   "cell_type": "code",
   "execution_count": 17,
   "metadata": {},
   "outputs": [
    {
     "data": {
      "text/plain": [
       "<AxesSubplot:>"
      ]
     },
     "execution_count": 17,
     "metadata": {},
     "output_type": "execute_result"
    },
    {
     "data": {
      "image/png": "[encoded data removed]",
      "text/plain": [
       "<Figure size 640x480 with 1 Axes>"
      ]
     },
     "metadata": {},
     "output_type": "display_data"
    }
   ],
   "source": [
    "#Total value of flights per airline\n",
    "dataset['Airline'].value_counts().plot.bar()"
   ]
  },
  {
   "attachments": {},
   "cell_type": "markdown",
   "metadata": {},
   "source": [
    "### WN airline has the most flights and HA airline has the least"
   ]
  },
  {
   "cell_type": "code",
   "execution_count": 23,
   "metadata": {},
   "outputs": [
    {
     "data": {
      "text/plain": [
       "<AxesSubplot:xlabel='Airline', ylabel='count'>"
      ]
     },
     "execution_count": 23,
     "metadata": {},
     "output_type": "execute_result"
    },
    {
     "data": {
      "image/png": "[encoded data removed]",
      "text/plain": [
       "<Figure size 640x480 with 1 Axes>"
      ]
     },
     "metadata": {},
     "output_type": "display_data"
    }
   ],
   "source": [
    "#check for total number of delayed flights and flights arrived on time\n",
    "sns.countplot(x=dataset['Airline'],hue='Class',data=dataset)\n"
   ]
  },
  {
   "attachments": {},
   "cell_type": "markdown",
   "metadata": {},
   "source": [
    "--- 1 represents delayed flights while 0 represents flights arrived on time\n",
    "### WN airline has the highest delay"
   ]
  },
  {
   "cell_type": "code",
   "execution_count": 24,
   "metadata": {},
   "outputs": [
    {
     "data": {
      "text/plain": [
       "<AxesSubplot:xlabel='Airline', ylabel='Length'>"
      ]
     },
     "execution_count": 24,
     "metadata": {},
     "output_type": "execute_result"
    },
    {
     "data": {
      "image/png": "[encoded data removed]",
      "text/plain": [
       "<Figure size 640x480 with 1 Axes>"
      ]
     },
     "metadata": {},
     "output_type": "display_data"
    }
   ],
   "source": [
    "#Airline and travel time\n",
    "sns.barplot(x = 'Airline', y = 'Length', data = dataset)"
   ]
  },
  {
   "attachments": {},
   "cell_type": "markdown",
   "metadata": {},
   "source": [
    "### CO and UA has the longest average flight length\n",
    "\n"
   ]
  },
  {
   "cell_type": "code",
   "execution_count": 26,
   "metadata": {},
   "outputs": [
    {
     "data": {
      "text/plain": [
       "<AxesSubplot:xlabel='Airline', ylabel='Time'>"
      ]
     },
     "execution_count": 26,
     "metadata": {},
     "output_type": "execute_result"
    },
    {
     "data": {
      "image/png": "[encoded data removed]",
      "text/plain": [
       "<Figure size 640x480 with 1 Axes>"
      ]
     },
     "metadata": {},
     "output_type": "display_data"
    }
   ],
   "source": [
    "#flight departure times\n",
    "sns.barplot(x = 'Airline', y = 'Time', data = dataset)"
   ]
  },
  {
   "attachments": {},
   "cell_type": "markdown",
   "metadata": {},
   "source": [
    "### Almost all of the flights have similar departure times"
   ]
  },
  {
   "cell_type": "code",
   "execution_count": 27,
   "metadata": {},
   "outputs": [
    {
     "data": {
      "text/plain": [
       "<AxesSubplot:xlabel='DayOfWeek', ylabel='count'>"
      ]
     },
     "execution_count": 27,
     "metadata": {},
     "output_type": "execute_result"
    },
    {
     "data": {
      "image/png": "[encoded data removed]",
      "text/plain": [
       "<Figure size 640x480 with 1 Axes>"
      ]
     },
     "metadata": {},
     "output_type": "display_data"
    }
   ],
   "source": [
    "#delayed flights per day\n",
    "sns.countplot(x=dataset['DayOfWeek'],hue='Class',data=dataset)\n"
   ]
  },
  {
   "attachments": {},
   "cell_type": "markdown",
   "metadata": {},
   "source": [
    "### There has been more delays in the midweek than weekends \n",
    "### Highest delay has been in Wednesday --\n",
    "### The lowest delay has been in Saturday"
   ]
  },
  {
   "cell_type": "code",
   "execution_count": 29,
   "metadata": {
    "execution": {
     "iopub.execute_input": "2023-03-06T08:26:31.606016Z",
     "iopub.status.busy": "2023-03-06T08:26:31.60558Z",
     "iopub.status.idle": "2023-03-06T08:26:31.762208Z",
     "shell.execute_reply": "2023-03-06T08:26:31.761305Z",
     "shell.execute_reply.started": "2023-03-06T08:26:31.605984Z"
    }
   },
   "outputs": [
    {
     "data": {
      "image/png": "[encoded data removed]",
      "text/plain": [
       "<Figure size 640x480 with 1 Axes>"
      ]
     },
     "metadata": {},
     "output_type": "display_data"
    }
   ],
   "source": [
    "#Flight frequency throughout the week\n",
    "DayOfWeekOrder = list(range(1,8))\n",
    "sns.countplot(x='DayOfWeek',data=dataset,order=DayOfWeekOrder).set(title='Flight frequency throughout the week');"
   ]
  },
  {
   "attachments": {},
   "cell_type": "markdown",
   "metadata": {},
   "source": [
    "**We see that the middle days of the week is when the most flights are booked. Saturday has the least number of flights, while Thursday has the most. This can be explained by people wanting to fly to a new place and have a whole weekend to themselves.**"
   ]
  },
  {
   "cell_type": "code",
   "execution_count": 30,
   "metadata": {
    "execution": {
     "iopub.execute_input": "2023-03-06T08:27:19.262933Z",
     "iopub.status.busy": "2023-03-06T08:27:19.26255Z",
     "iopub.status.idle": "2023-03-06T08:27:19.860524Z",
     "shell.execute_reply": "2023-03-06T08:27:19.859063Z",
     "shell.execute_reply.started": "2023-03-06T08:27:19.262901Z"
    }
   },
   "outputs": [
    {
     "data": {
      "image/png": "[encoded data removed]",
      "text/plain": [
       "<Figure size 640x480 with 1 Axes>"
      ]
     },
     "metadata": {},
     "output_type": "display_data"
    },
    {
     "data": {
      "image/png": "[encoded data removed]",
      "text/plain": [
       "<Figure size 640x480 with 1 Axes>"
      ]
     },
     "metadata": {},
     "output_type": "display_data"
    },
    {
     "data": {
      "image/png": "[encoded data removed]",
      "text/plain": [
       "<Figure size 640x480 with 1 Axes>"
      ]
     },
     "metadata": {},
     "output_type": "display_data"
    },
    {
     "data": {
      "image/png": "[encoded data removed]",
      "text/plain": [
       "<Figure size 640x480 with 1 Axes>"
      ]
     },
     "metadata": {},
     "output_type": "display_data"
    },
    {
     "data": {
      "image/png": "[encoded data removed]",
      "text/plain": [
       "<Figure size 640x480 with 1 Axes>"
      ]
     },
     "metadata": {},
     "output_type": "display_data"
    },
    {
     "data": {
      "image/png": "[encoded data removed]",
      "text/plain": [
       "<Figure size 640x480 with 1 Axes>"
      ]
     },
     "metadata": {},
     "output_type": "display_data"
    },
    {
     "data": {
      "image/png": "[encoded data removed]",
      "text/plain": [
       "<Figure size 640x480 with 1 Axes>"
      ]
     },
     "metadata": {},
     "output_type": "display_data"
    }
   ],
   "source": [
    "#Day of week vs Flight being delayed\n",
    "a = dataset.groupby(['DayOfWeek','Class']).count().unstack('Class')['Time']\n",
    "for i in range(a.shape[0]):\n",
    "    numOfFlights = a.iloc[i,0]+a.iloc[i,1]\n",
    "    for j in [0,1]:\n",
    "        a.iloc[i,j] = a.iloc[i,j]/numOfFlights\n",
    "\n",
    "#set labels for pie chart\n",
    "pieChartLabels = ['Not delayed','Delayed']\n",
    "#define Seaborn color palette to use\n",
    "myColors = sns.color_palette('pastel')[0:5]\n",
    "#display pie charts for the whole week   \n",
    "for i in range(1,8):\n",
    "    b = a.iloc[i-1,:]\n",
    "    #create pie chart\n",
    "    plt.pie(b, labels = pieChartLabels, colors = myColors, autopct='%.0f%%')\n",
    "    plt.title('Day ' + str(i))\n",
    "    plt.show()"
   ]
  },
  {
   "attachments": {},
   "cell_type": "markdown",
   "metadata": {},
   "source": [
    "**We see that on days 5 and 6 we have the percentage of flights being the least delayed, and on days 1 and 3 we have it being the most delayed.**"
   ]
  },
  {
   "cell_type": "code",
   "execution_count": 31,
   "metadata": {
    "execution": {
     "iopub.execute_input": "2023-03-06T08:28:06.219737Z",
     "iopub.status.busy": "2023-03-06T08:28:06.219305Z",
     "iopub.status.idle": "2023-03-06T08:28:06.463884Z",
     "shell.execute_reply": "2023-03-06T08:28:06.462656Z",
     "shell.execute_reply.started": "2023-03-06T08:28:06.219704Z"
    }
   },
   "outputs": [
    {
     "data": {
      "image/png": "[encoded data removed]",
      "text/plain": [
       "<Figure size 640x480 with 1 Axes>"
      ]
     },
     "metadata": {},
     "output_type": "display_data"
    }
   ],
   "source": [
    "#We will now look at which airlines had the most delayed flights\n",
    "c = dataset.groupby('Airline').sum()['Class'].sort_values(ascending=False)\n",
    "c.plot(kind='bar',color=myColors)\n",
    "plt.ylabel('Number of delayed flights')\n",
    "plt.title('Number of delayed flights per airline')\n",
    "plt.show()"
   ]
  },
  {
   "attachments": {},
   "cell_type": "markdown",
   "metadata": {},
   "source": [
    "**We see that airline WN has the most number of delayed flights by a big margin.**"
   ]
  },
  {
   "cell_type": "code",
   "execution_count": 32,
   "metadata": {},
   "outputs": [
    {
     "data": {
      "text/plain": [
       "<AxesSubplot:xlabel='Class', ylabel='count'>"
      ]
     },
     "execution_count": 32,
     "metadata": {},
     "output_type": "execute_result"
    },
    {
     "data": {
      "image/png": "[encoded data removed]",
      "text/plain": [
       "<Figure size 640x480 with 1 Axes>"
      ]
     },
     "metadata": {},
     "output_type": "display_data"
    }
   ],
   "source": [
    "#Visualizing the splitting of 'Class' column\n",
    "sns.countplot(x = 'Class', data = dataset)"
   ]
  },
  {
   "attachments": {},
   "cell_type": "markdown",
   "metadata": {},
   "source": [
    "**We will now move onto modelling.**"
   ]
  },
  {
   "attachments": {},
   "cell_type": "markdown",
   "metadata": {},
   "source": [
    "<h1><u><b>Model creation and prediction</b></u></h1>"
   ]
  },
  {
   "cell_type": "code",
   "execution_count": 33,
   "metadata": {
    "execution": {
     "iopub.execute_input": "2023-03-06T08:29:10.707996Z",
     "iopub.status.busy": "2023-03-06T08:29:10.707504Z",
     "iopub.status.idle": "2023-03-06T08:29:10.799982Z",
     "shell.execute_reply": "2023-03-06T08:29:10.798527Z",
     "shell.execute_reply.started": "2023-03-06T08:29:10.70796Z"
    }
   },
   "outputs": [
    {
     "data": {
      "text/html": [
       "<div>\n",
       "<style scoped>\n",
       "    .dataframe tbody tr th:only-of-type {\n",
       "        vertical-align: middle;\n",
       "    }\n",
       "\n",
       "    .dataframe tbody tr th {\n",
       "        vertical-align: top;\n",
       "    }\n",
       "\n",
       "    .dataframe thead th {\n",
       "        text-align: right;\n",
       "    }\n",
       "</style>\n",
       "<table border=\"1\" class=\"dataframe\">\n",
       "  <thead>\n",
       "    <tr style=\"text-align: right;\">\n",
       "      <th></th>\n",
       "      <th>Time</th>\n",
       "      <th>Length</th>\n",
       "      <th>Airline</th>\n",
       "      <th>AirportFrom</th>\n",
       "      <th>AirportTo</th>\n",
       "      <th>DayOfWeek</th>\n",
       "      <th>Class</th>\n",
       "    </tr>\n",
       "    <tr>\n",
       "      <th>Flight</th>\n",
       "      <th></th>\n",
       "      <th></th>\n",
       "      <th></th>\n",
       "      <th></th>\n",
       "      <th></th>\n",
       "      <th></th>\n",
       "      <th></th>\n",
       "    </tr>\n",
       "  </thead>\n",
       "  <tbody>\n",
       "    <tr>\n",
       "      <th>2313.0</th>\n",
       "      <td>0.899930</td>\n",
       "      <td>0.215267</td>\n",
       "      <td>DL</td>\n",
       "      <td>ATL</td>\n",
       "      <td>HOU</td>\n",
       "      <td>1</td>\n",
       "      <td>0</td>\n",
       "    </tr>\n",
       "    <tr>\n",
       "      <th>6948.0</th>\n",
       "      <td>0.244927</td>\n",
       "      <td>0.222901</td>\n",
       "      <td>OO</td>\n",
       "      <td>COS</td>\n",
       "      <td>ORD</td>\n",
       "      <td>4</td>\n",
       "      <td>0</td>\n",
       "    </tr>\n",
       "    <tr>\n",
       "      <th>1247.0</th>\n",
       "      <td>0.811756</td>\n",
       "      <td>0.218321</td>\n",
       "      <td>B6</td>\n",
       "      <td>BOS</td>\n",
       "      <td>CLT</td>\n",
       "      <td>3</td>\n",
       "      <td>0</td>\n",
       "    </tr>\n",
       "    <tr>\n",
       "      <th>31.0</th>\n",
       "      <td>0.979706</td>\n",
       "      <td>0.525191</td>\n",
       "      <td>US</td>\n",
       "      <td>OGG</td>\n",
       "      <td>PHX</td>\n",
       "      <td>6</td>\n",
       "      <td>0</td>\n",
       "    </tr>\n",
       "    <tr>\n",
       "      <th>563.0</th>\n",
       "      <td>0.477257</td>\n",
       "      <td>0.149618</td>\n",
       "      <td>FL</td>\n",
       "      <td>BMI</td>\n",
       "      <td>ATL</td>\n",
       "      <td>4</td>\n",
       "      <td>0</td>\n",
       "    </tr>\n",
       "  </tbody>\n",
       "</table>\n",
       "</div>"
      ],
      "text/plain": [
       "            Time    Length Airline AirportFrom AirportTo DayOfWeek  Class\n",
       "Flight                                                                   \n",
       "2313.0  0.899930  0.215267      DL         ATL       HOU         1      0\n",
       "6948.0  0.244927  0.222901      OO         COS       ORD         4      0\n",
       "1247.0  0.811756  0.218321      B6         BOS       CLT         3      0\n",
       "31.0    0.979706  0.525191      US         OGG       PHX         6      0\n",
       "563.0   0.477257  0.149618      FL         BMI       ATL         4      0"
      ]
     },
     "execution_count": 33,
     "metadata": {},
     "output_type": "execute_result"
    }
   ],
   "source": [
    "#We need to standardize the features: Time, and Length\n",
    "from sklearn.preprocessing import MinMaxScaler\n",
    "sc = MinMaxScaler()\n",
    "dataset[['Time','Length']] = sc.fit_transform(dataset[['Time','Length']])\n",
    "dataset.head()"
   ]
  },
  {
   "cell_type": "code",
   "execution_count": 34,
   "metadata": {
    "execution": {
     "iopub.execute_input": "2023-03-06T08:29:28.458585Z",
     "iopub.status.busy": "2023-03-06T08:29:28.458189Z",
     "iopub.status.idle": "2023-03-06T08:29:30.543421Z",
     "shell.execute_reply": "2023-03-06T08:29:30.542258Z",
     "shell.execute_reply.started": "2023-03-06T08:29:28.458554Z"
    }
   },
   "outputs": [
    {
     "data": {
      "text/html": [
       "<div>\n",
       "<style scoped>\n",
       "    .dataframe tbody tr th:only-of-type {\n",
       "        vertical-align: middle;\n",
       "    }\n",
       "\n",
       "    .dataframe tbody tr th {\n",
       "        vertical-align: top;\n",
       "    }\n",
       "\n",
       "    .dataframe thead th {\n",
       "        text-align: right;\n",
       "    }\n",
       "</style>\n",
       "<table border=\"1\" class=\"dataframe\">\n",
       "  <thead>\n",
       "    <tr style=\"text-align: right;\">\n",
       "      <th></th>\n",
       "      <th>Time</th>\n",
       "      <th>Length</th>\n",
       "      <th>Class</th>\n",
       "      <th>Airline_AA</th>\n",
       "      <th>Airline_AS</th>\n",
       "      <th>Airline_B6</th>\n",
       "      <th>Airline_CO</th>\n",
       "      <th>Airline_DL</th>\n",
       "      <th>Airline_EV</th>\n",
       "      <th>Airline_F9</th>\n",
       "      <th>...</th>\n",
       "      <th>AirportTo_WRG</th>\n",
       "      <th>AirportTo_XNA</th>\n",
       "      <th>AirportTo_YAK</th>\n",
       "      <th>AirportTo_YUM</th>\n",
       "      <th>DayOfWeek_2</th>\n",
       "      <th>DayOfWeek_3</th>\n",
       "      <th>DayOfWeek_4</th>\n",
       "      <th>DayOfWeek_5</th>\n",
       "      <th>DayOfWeek_6</th>\n",
       "      <th>DayOfWeek_7</th>\n",
       "    </tr>\n",
       "    <tr>\n",
       "      <th>Flight</th>\n",
       "      <th></th>\n",
       "      <th></th>\n",
       "      <th></th>\n",
       "      <th></th>\n",
       "      <th></th>\n",
       "      <th></th>\n",
       "      <th></th>\n",
       "      <th></th>\n",
       "      <th></th>\n",
       "      <th></th>\n",
       "      <th></th>\n",
       "      <th></th>\n",
       "      <th></th>\n",
       "      <th></th>\n",
       "      <th></th>\n",
       "      <th></th>\n",
       "      <th></th>\n",
       "      <th></th>\n",
       "      <th></th>\n",
       "      <th></th>\n",
       "      <th></th>\n",
       "    </tr>\n",
       "  </thead>\n",
       "  <tbody>\n",
       "    <tr>\n",
       "      <th>2313.0</th>\n",
       "      <td>0.899930</td>\n",
       "      <td>0.215267</td>\n",
       "      <td>0</td>\n",
       "      <td>0</td>\n",
       "      <td>0</td>\n",
       "      <td>0</td>\n",
       "      <td>0</td>\n",
       "      <td>1</td>\n",
       "      <td>0</td>\n",
       "      <td>0</td>\n",
       "      <td>...</td>\n",
       "      <td>0</td>\n",
       "      <td>0</td>\n",
       "      <td>0</td>\n",
       "      <td>0</td>\n",
       "      <td>0</td>\n",
       "      <td>0</td>\n",
       "      <td>0</td>\n",
       "      <td>0</td>\n",
       "      <td>0</td>\n",
       "      <td>0</td>\n",
       "    </tr>\n",
       "    <tr>\n",
       "      <th>6948.0</th>\n",
       "      <td>0.244927</td>\n",
       "      <td>0.222901</td>\n",
       "      <td>0</td>\n",
       "      <td>0</td>\n",
       "      <td>0</td>\n",
       "      <td>0</td>\n",
       "      <td>0</td>\n",
       "      <td>0</td>\n",
       "      <td>0</td>\n",
       "      <td>0</td>\n",
       "      <td>...</td>\n",
       "      <td>0</td>\n",
       "      <td>0</td>\n",
       "      <td>0</td>\n",
       "      <td>0</td>\n",
       "      <td>0</td>\n",
       "      <td>0</td>\n",
       "      <td>1</td>\n",
       "      <td>0</td>\n",
       "      <td>0</td>\n",
       "      <td>0</td>\n",
       "    </tr>\n",
       "    <tr>\n",
       "      <th>1247.0</th>\n",
       "      <td>0.811756</td>\n",
       "      <td>0.218321</td>\n",
       "      <td>0</td>\n",
       "      <td>0</td>\n",
       "      <td>0</td>\n",
       "      <td>1</td>\n",
       "      <td>0</td>\n",
       "      <td>0</td>\n",
       "      <td>0</td>\n",
       "      <td>0</td>\n",
       "      <td>...</td>\n",
       "      <td>0</td>\n",
       "      <td>0</td>\n",
       "      <td>0</td>\n",
       "      <td>0</td>\n",
       "      <td>0</td>\n",
       "      <td>1</td>\n",
       "      <td>0</td>\n",
       "      <td>0</td>\n",
       "      <td>0</td>\n",
       "      <td>0</td>\n",
       "    </tr>\n",
       "    <tr>\n",
       "      <th>31.0</th>\n",
       "      <td>0.979706</td>\n",
       "      <td>0.525191</td>\n",
       "      <td>0</td>\n",
       "      <td>0</td>\n",
       "      <td>0</td>\n",
       "      <td>0</td>\n",
       "      <td>0</td>\n",
       "      <td>0</td>\n",
       "      <td>0</td>\n",
       "      <td>0</td>\n",
       "      <td>...</td>\n",
       "      <td>0</td>\n",
       "      <td>0</td>\n",
       "      <td>0</td>\n",
       "      <td>0</td>\n",
       "      <td>0</td>\n",
       "      <td>0</td>\n",
       "      <td>0</td>\n",
       "      <td>0</td>\n",
       "      <td>1</td>\n",
       "      <td>0</td>\n",
       "    </tr>\n",
       "    <tr>\n",
       "      <th>563.0</th>\n",
       "      <td>0.477257</td>\n",
       "      <td>0.149618</td>\n",
       "      <td>0</td>\n",
       "      <td>0</td>\n",
       "      <td>0</td>\n",
       "      <td>0</td>\n",
       "      <td>0</td>\n",
       "      <td>0</td>\n",
       "      <td>0</td>\n",
       "      <td>0</td>\n",
       "      <td>...</td>\n",
       "      <td>0</td>\n",
       "      <td>0</td>\n",
       "      <td>0</td>\n",
       "      <td>0</td>\n",
       "      <td>0</td>\n",
       "      <td>0</td>\n",
       "      <td>1</td>\n",
       "      <td>0</td>\n",
       "      <td>0</td>\n",
       "      <td>0</td>\n",
       "    </tr>\n",
       "  </tbody>\n",
       "</table>\n",
       "<p>5 rows × 610 columns</p>\n",
       "</div>"
      ],
      "text/plain": [
       "            Time    Length  Class  Airline_AA  Airline_AS  Airline_B6  \\\n",
       "Flight                                                                  \n",
       "2313.0  0.899930  0.215267      0           0           0           0   \n",
       "6948.0  0.244927  0.222901      0           0           0           0   \n",
       "1247.0  0.811756  0.218321      0           0           0           1   \n",
       "31.0    0.979706  0.525191      0           0           0           0   \n",
       "563.0   0.477257  0.149618      0           0           0           0   \n",
       "\n",
       "        Airline_CO  Airline_DL  Airline_EV  Airline_F9  ...  AirportTo_WRG  \\\n",
       "Flight                                                  ...                  \n",
       "2313.0           0           1           0           0  ...              0   \n",
       "6948.0           0           0           0           0  ...              0   \n",
       "1247.0           0           0           0           0  ...              0   \n",
       "31.0             0           0           0           0  ...              0   \n",
       "563.0            0           0           0           0  ...              0   \n",
       "\n",
       "        AirportTo_XNA  AirportTo_YAK  AirportTo_YUM  DayOfWeek_2  DayOfWeek_3  \\\n",
       "Flight                                                                          \n",
       "2313.0              0              0              0            0            0   \n",
       "6948.0              0              0              0            0            0   \n",
       "1247.0              0              0              0            0            1   \n",
       "31.0                0              0              0            0            0   \n",
       "563.0               0              0              0            0            0   \n",
       "\n",
       "        DayOfWeek_4  DayOfWeek_5  DayOfWeek_6  DayOfWeek_7  \n",
       "Flight                                                      \n",
       "2313.0            0            0            0            0  \n",
       "6948.0            1            0            0            0  \n",
       "1247.0            0            0            0            0  \n",
       "31.0              0            0            1            0  \n",
       "563.0             1            0            0            0  \n",
       "\n",
       "[5 rows x 610 columns]"
      ]
     },
     "execution_count": 34,
     "metadata": {},
     "output_type": "execute_result"
    }
   ],
   "source": [
    "#We now need to encode our categorical features\n",
    "categorical_features = ['Airline','AirportFrom','AirportTo','DayOfWeek']\n",
    "dataset = pd.get_dummies(data=dataset,columns=categorical_features,drop_first=True)\n",
    "dataset.head()"
   ]
  },
  {
   "cell_type": "code",
   "execution_count": 36,
   "metadata": {
    "execution": {
     "iopub.execute_input": "2023-03-06T08:29:43.046756Z",
     "iopub.status.busy": "2023-03-06T08:29:43.046161Z",
     "iopub.status.idle": "2023-03-06T08:29:44.055867Z",
     "shell.execute_reply": "2023-03-06T08:29:44.054532Z",
     "shell.execute_reply.started": "2023-03-06T08:29:43.046719Z"
    }
   },
   "outputs": [],
   "source": [
    "#Let's create our independent (X) variable and our dependent (y) variable\n",
    "#X = dataset.iloc[:,0:-1].values\n",
    "#y = dataset.iloc[:,-1].values"
   ]
  },
  {
   "cell_type": "code",
   "execution_count": 37,
   "metadata": {
    "execution": {
     "iopub.execute_input": "2023-03-06T08:29:38.693062Z",
     "iopub.status.busy": "2023-03-06T08:29:38.692342Z",
     "iopub.status.idle": "2023-03-06T08:29:38.771295Z",
     "shell.execute_reply": "2023-03-06T08:29:38.770304Z",
     "shell.execute_reply.started": "2023-03-06T08:29:38.692996Z"
    }
   },
   "outputs": [
    {
     "data": {
      "text/html": [
       "<div>\n",
       "<style scoped>\n",
       "    .dataframe tbody tr th:only-of-type {\n",
       "        vertical-align: middle;\n",
       "    }\n",
       "\n",
       "    .dataframe tbody tr th {\n",
       "        vertical-align: top;\n",
       "    }\n",
       "\n",
       "    .dataframe thead th {\n",
       "        text-align: right;\n",
       "    }\n",
       "</style>\n",
       "<table border=\"1\" class=\"dataframe\">\n",
       "  <thead>\n",
       "    <tr style=\"text-align: right;\">\n",
       "      <th></th>\n",
       "      <th>Time</th>\n",
       "      <th>Length</th>\n",
       "      <th>Airline_AA</th>\n",
       "      <th>Airline_AS</th>\n",
       "      <th>Airline_B6</th>\n",
       "      <th>Airline_CO</th>\n",
       "      <th>Airline_DL</th>\n",
       "      <th>Airline_EV</th>\n",
       "      <th>Airline_F9</th>\n",
       "      <th>Airline_FL</th>\n",
       "      <th>...</th>\n",
       "      <th>AirportTo_XNA</th>\n",
       "      <th>AirportTo_YAK</th>\n",
       "      <th>AirportTo_YUM</th>\n",
       "      <th>DayOfWeek_2</th>\n",
       "      <th>DayOfWeek_3</th>\n",
       "      <th>DayOfWeek_4</th>\n",
       "      <th>DayOfWeek_5</th>\n",
       "      <th>DayOfWeek_6</th>\n",
       "      <th>DayOfWeek_7</th>\n",
       "      <th>Class</th>\n",
       "    </tr>\n",
       "    <tr>\n",
       "      <th>Flight</th>\n",
       "      <th></th>\n",
       "      <th></th>\n",
       "      <th></th>\n",
       "      <th></th>\n",
       "      <th></th>\n",
       "      <th></th>\n",
       "      <th></th>\n",
       "      <th></th>\n",
       "      <th></th>\n",
       "      <th></th>\n",
       "      <th></th>\n",
       "      <th></th>\n",
       "      <th></th>\n",
       "      <th></th>\n",
       "      <th></th>\n",
       "      <th></th>\n",
       "      <th></th>\n",
       "      <th></th>\n",
       "      <th></th>\n",
       "      <th></th>\n",
       "      <th></th>\n",
       "    </tr>\n",
       "  </thead>\n",
       "  <tbody>\n",
       "    <tr>\n",
       "      <th>2313.0</th>\n",
       "      <td>0.899930</td>\n",
       "      <td>0.215267</td>\n",
       "      <td>0</td>\n",
       "      <td>0</td>\n",
       "      <td>0</td>\n",
       "      <td>0</td>\n",
       "      <td>1</td>\n",
       "      <td>0</td>\n",
       "      <td>0</td>\n",
       "      <td>0</td>\n",
       "      <td>...</td>\n",
       "      <td>0</td>\n",
       "      <td>0</td>\n",
       "      <td>0</td>\n",
       "      <td>0</td>\n",
       "      <td>0</td>\n",
       "      <td>0</td>\n",
       "      <td>0</td>\n",
       "      <td>0</td>\n",
       "      <td>0</td>\n",
       "      <td>0</td>\n",
       "    </tr>\n",
       "    <tr>\n",
       "      <th>6948.0</th>\n",
       "      <td>0.244927</td>\n",
       "      <td>0.222901</td>\n",
       "      <td>0</td>\n",
       "      <td>0</td>\n",
       "      <td>0</td>\n",
       "      <td>0</td>\n",
       "      <td>0</td>\n",
       "      <td>0</td>\n",
       "      <td>0</td>\n",
       "      <td>0</td>\n",
       "      <td>...</td>\n",
       "      <td>0</td>\n",
       "      <td>0</td>\n",
       "      <td>0</td>\n",
       "      <td>0</td>\n",
       "      <td>0</td>\n",
       "      <td>1</td>\n",
       "      <td>0</td>\n",
       "      <td>0</td>\n",
       "      <td>0</td>\n",
       "      <td>0</td>\n",
       "    </tr>\n",
       "    <tr>\n",
       "      <th>1247.0</th>\n",
       "      <td>0.811756</td>\n",
       "      <td>0.218321</td>\n",
       "      <td>0</td>\n",
       "      <td>0</td>\n",
       "      <td>1</td>\n",
       "      <td>0</td>\n",
       "      <td>0</td>\n",
       "      <td>0</td>\n",
       "      <td>0</td>\n",
       "      <td>0</td>\n",
       "      <td>...</td>\n",
       "      <td>0</td>\n",
       "      <td>0</td>\n",
       "      <td>0</td>\n",
       "      <td>0</td>\n",
       "      <td>1</td>\n",
       "      <td>0</td>\n",
       "      <td>0</td>\n",
       "      <td>0</td>\n",
       "      <td>0</td>\n",
       "      <td>0</td>\n",
       "    </tr>\n",
       "    <tr>\n",
       "      <th>31.0</th>\n",
       "      <td>0.979706</td>\n",
       "      <td>0.525191</td>\n",
       "      <td>0</td>\n",
       "      <td>0</td>\n",
       "      <td>0</td>\n",
       "      <td>0</td>\n",
       "      <td>0</td>\n",
       "      <td>0</td>\n",
       "      <td>0</td>\n",
       "      <td>0</td>\n",
       "      <td>...</td>\n",
       "      <td>0</td>\n",
       "      <td>0</td>\n",
       "      <td>0</td>\n",
       "      <td>0</td>\n",
       "      <td>0</td>\n",
       "      <td>0</td>\n",
       "      <td>0</td>\n",
       "      <td>1</td>\n",
       "      <td>0</td>\n",
       "      <td>0</td>\n",
       "    </tr>\n",
       "    <tr>\n",
       "      <th>563.0</th>\n",
       "      <td>0.477257</td>\n",
       "      <td>0.149618</td>\n",
       "      <td>0</td>\n",
       "      <td>0</td>\n",
       "      <td>0</td>\n",
       "      <td>0</td>\n",
       "      <td>0</td>\n",
       "      <td>0</td>\n",
       "      <td>0</td>\n",
       "      <td>1</td>\n",
       "      <td>...</td>\n",
       "      <td>0</td>\n",
       "      <td>0</td>\n",
       "      <td>0</td>\n",
       "      <td>0</td>\n",
       "      <td>0</td>\n",
       "      <td>1</td>\n",
       "      <td>0</td>\n",
       "      <td>0</td>\n",
       "      <td>0</td>\n",
       "      <td>0</td>\n",
       "    </tr>\n",
       "  </tbody>\n",
       "</table>\n",
       "<p>5 rows × 610 columns</p>\n",
       "</div>"
      ],
      "text/plain": [
       "            Time    Length  Airline_AA  Airline_AS  Airline_B6  Airline_CO  \\\n",
       "Flight                                                                       \n",
       "2313.0  0.899930  0.215267           0           0           0           0   \n",
       "6948.0  0.244927  0.222901           0           0           0           0   \n",
       "1247.0  0.811756  0.218321           0           0           1           0   \n",
       "31.0    0.979706  0.525191           0           0           0           0   \n",
       "563.0   0.477257  0.149618           0           0           0           0   \n",
       "\n",
       "        Airline_DL  Airline_EV  Airline_F9  Airline_FL  ...  AirportTo_XNA  \\\n",
       "Flight                                                  ...                  \n",
       "2313.0           1           0           0           0  ...              0   \n",
       "6948.0           0           0           0           0  ...              0   \n",
       "1247.0           0           0           0           0  ...              0   \n",
       "31.0             0           0           0           0  ...              0   \n",
       "563.0            0           0           0           1  ...              0   \n",
       "\n",
       "        AirportTo_YAK  AirportTo_YUM  DayOfWeek_2  DayOfWeek_3  DayOfWeek_4  \\\n",
       "Flight                                                                        \n",
       "2313.0              0              0            0            0            0   \n",
       "6948.0              0              0            0            0            1   \n",
       "1247.0              0              0            0            1            0   \n",
       "31.0                0              0            0            0            0   \n",
       "563.0               0              0            0            0            1   \n",
       "\n",
       "        DayOfWeek_5  DayOfWeek_6  DayOfWeek_7  Class  \n",
       "Flight                                                \n",
       "2313.0            0            0            0      0  \n",
       "6948.0            0            0            0      0  \n",
       "1247.0            0            0            0      0  \n",
       "31.0              0            1            0      0  \n",
       "563.0             0            0            0      0  \n",
       "\n",
       "[5 rows x 610 columns]"
      ]
     },
     "execution_count": 37,
     "metadata": {},
     "output_type": "execute_result"
    }
   ],
   "source": [
    "#Let's move our Class column to the end of the DataFrame\n",
    "transportedColumn = dataset.pop('Class')\n",
    "dataset = pd.concat([dataset,transportedColumn],axis=1)\n",
    "dataset.head()"
   ]
  },
  {
   "cell_type": "code",
   "execution_count": null,
   "metadata": {
    "execution": {
     "iopub.execute_input": "2023-03-06T08:29:49.623248Z",
     "iopub.status.busy": "2023-03-06T08:29:49.622844Z",
     "iopub.status.idle": "2023-03-06T08:29:52.650249Z",
     "shell.execute_reply": "2023-03-06T08:29:52.648824Z",
     "shell.execute_reply.started": "2023-03-06T08:29:49.623214Z"
    }
   },
   "outputs": [],
   "source": [
    "#Splitting the dataset into the Training set and the Test set\n",
    "from sklearn.model_selection import train_test_split\n",
    "#X_train, X_test, y_train, y_test = train_test_split(X,y,test_size=0.3, random_state=0)"
   ]
  },
  {
   "attachments": {},
   "cell_type": "markdown",
   "metadata": {},
   "source": [
    "**We will try multiple machine learning model algorithms to find the best one for this problem.**"
   ]
  },
  {
   "attachments": {},
   "cell_type": "markdown",
   "metadata": {},
   "source": [
    "<h3><u><b>LOGISTIC REGRESSION<b><u><h3>"
   ]
  },
  {
   "cell_type": "code",
   "execution_count": null,
   "metadata": {},
   "outputs": [],
   "source": [
    "\n",
    "X=dataset.drop('Class',axis=1)\n",
    "y=dataset['Class']\n",
    "\n",
    "#Splitting the training and testing data\n",
    "\n",
    "X_train,X_test,y_train,y_test=train_test_split(X,y,test_size=0.2,random_state=42)\n",
    "\n",
    "\n",
    "#importing LogisticRegression model building library\n",
    "from sklearn.linear_model import LogisticRegression\n"
   ]
  },
  {
   "cell_type": "code",
   "execution_count": null,
   "metadata": {},
   "outputs": [],
   "source": [
    "print('X_train shape is',X_train.shape)\n",
    "print('X_test shape is',X_test.shape)\n",
    "print('y_train shape is',y_train.shape)\n",
    "print('y_test shape is',y_test.shape)"
   ]
  },
  {
   "cell_type": "code",
   "execution_count": null,
   "metadata": {},
   "outputs": [],
   "source": [
    "model=LogisticRegression()"
   ]
  },
  {
   "cell_type": "code",
   "execution_count": null,
   "metadata": {},
   "outputs": [],
   "source": [
    "model.fit(X_train,y_train)\n",
    "y_pred=model.predict(X_test)\n",
    "model.score(X_test,y_test)\n",
    "model.score(X_test,y_test)"
   ]
  },
  {
   "attachments": {},
   "cell_type": "markdown",
   "metadata": {},
   "source": [
    "<h3><u><b> KNN</b></u></h3>"
   ]
  },
  {
   "cell_type": "code",
   "execution_count": null,
   "metadata": {
    "execution": {
     "iopub.execute_input": "2023-02-15T09:55:52.641377Z",
     "iopub.status.busy": "2023-02-15T09:55:52.640966Z",
     "iopub.status.idle": "2023-02-15T09:55:52.878008Z",
     "shell.execute_reply": "2023-02-15T09:55:52.87696Z",
     "shell.execute_reply.started": "2023-02-15T09:55:52.641344Z"
    }
   },
   "outputs": [],
   "source": [
    "#import model and fit it to training set\n",
    "from sklearn.neighbors import KNeighborsClassifier\n",
    "knn = KNeighborsClassifier()\n",
    "knn.fit(X_train,y_train);"
   ]
  },
  {
   "cell_type": "code",
   "execution_count": null,
   "metadata": {
    "execution": {
     "iopub.execute_input": "2023-03-06T08:31:52.420808Z",
     "iopub.status.busy": "2023-03-06T08:31:52.420363Z",
     "iopub.status.idle": "2023-03-06T08:31:52.425609Z",
     "shell.execute_reply": "2023-03-06T08:31:52.424241Z",
     "shell.execute_reply.started": "2023-03-06T08:31:52.420768Z"
    }
   },
   "outputs": [],
   "source": [
    "# Predicting the Test set results\n",
    "print(\"The model's accuracy on the training set is: \" + str(knn.score(X_train,y_train)*100)+ \"%\")\n",
    "print(\"The model's accuracy on the test set is: \" + str(knn.score(X_test,y_test)*100)+ \"%\")\n",
    "\n",
    "#I have commented out this code as it takes too long to run considering we will not use this model.\n",
    "\n",
    "#The training set accuracy was 72% and the test set accuracy was 62%"
   ]
  },
  {
   "attachments": {},
   "cell_type": "markdown",
   "metadata": {},
   "source": [
    "**We can see that the KNN model overfitted quite substantially, and the accuracy is not that good. The model was also very computationally expensive, so we will not bother with tuning it, and we will move onto the next model.**"
   ]
  },
  {
   "attachments": {},
   "cell_type": "markdown",
   "metadata": {},
   "source": [
    "<h3><u><b> Random Forest</b></u></h3>"
   ]
  },
  {
   "cell_type": "code",
   "execution_count": null,
   "metadata": {
    "execution": {
     "iopub.execute_input": "2023-03-06T08:30:49.996723Z",
     "iopub.status.busy": "2023-03-06T08:30:49.996154Z",
     "iopub.status.idle": "2023-03-06T08:31:28.592145Z",
     "shell.execute_reply": "2023-03-06T08:31:28.591221Z",
     "shell.execute_reply.started": "2023-03-06T08:30:49.996671Z"
    }
   },
   "outputs": [],
   "source": [
    "#import model and fit it to training set\n",
    "from sklearn.ensemble import RandomForestClassifier\n",
    "rf = RandomForestClassifier(n_estimators=10,criterion='entropy',random_state=0)\n",
    "rf.fit(X_train,y_train);"
   ]
  },
  {
   "cell_type": "code",
   "execution_count": null,
   "metadata": {
    "execution": {
     "iopub.execute_input": "2023-03-06T08:31:58.721603Z",
     "iopub.status.busy": "2023-03-06T08:31:58.721081Z",
     "iopub.status.idle": "2023-03-06T08:32:03.941871Z",
     "shell.execute_reply": "2023-03-06T08:32:03.940413Z",
     "shell.execute_reply.started": "2023-03-06T08:31:58.721559Z"
    }
   },
   "outputs": [],
   "source": [
    "# Predicting the Test set results\n",
    "print(\"The model's accuracy on the training set is: \" + str(rf.score(X_train,y_train)*100)+ \"%\")\n",
    "print(\"The model's accuracy on the test set is: \" + str(rf.score(X_test,y_test)*100)+ \"%\")"
   ]
  },
  {
   "attachments": {},
   "cell_type": "markdown",
   "metadata": {},
   "source": [
    "**This model was far less computationally expensive, and while the training set accuracy improved, the model overfitted even more than the KNN model.**"
   ]
  },
  {
   "attachments": {},
   "cell_type": "markdown",
   "metadata": {},
   "source": [
    "<h3><u><b>ANN (Artificial Neural Network)</b></u></h3>"
   ]
  },
  {
   "cell_type": "code",
   "execution_count": null,
   "metadata": {
    "execution": {
     "iopub.execute_input": "2023-03-06T08:32:54.061036Z",
     "iopub.status.busy": "2023-03-06T08:32:54.06056Z",
     "iopub.status.idle": "2023-03-06T08:33:00.574109Z",
     "shell.execute_reply": "2023-03-06T08:33:00.572946Z",
     "shell.execute_reply.started": "2023-03-06T08:32:54.061002Z"
    }
   },
   "outputs": [],
   "source": [
    "#Import the libraries\n",
    "import keras\n",
    "from keras.models import Sequential\n",
    "from keras.layers import Dense\n",
    "from keras.layers import Dropout"
   ]
  },
  {
   "cell_type": "code",
   "execution_count": null,
   "metadata": {
    "execution": {
     "iopub.execute_input": "2023-03-06T09:07:59.592166Z",
     "iopub.status.busy": "2023-03-06T09:07:59.591747Z",
     "iopub.status.idle": "2023-03-06T09:07:59.632292Z",
     "shell.execute_reply": "2023-03-06T09:07:59.630829Z",
     "shell.execute_reply.started": "2023-03-06T09:07:59.592132Z"
    }
   },
   "outputs": [],
   "source": [
    "#Create ANN\n",
    "ann = keras.models.Sequential()\n",
    "#Add the input layer\n",
    "ann.add(Dense(units=305, activation='relu', input_shape=X_train[0].shape)) #units equal to (num of IVs + num of DVs)/2. This is a good starting point\n",
    "#Add second layer (first hidden layer)\n",
    "ann.add(Dense(units=153, activation='relu')) #units are about half of the first layer\n",
    "#Add the output layer\n",
    "ann.add(Dense(units=1, activation='sigmoid'));"
   ]
  },
  {
   "cell_type": "code",
   "execution_count": null,
   "metadata": {
    "execution": {
     "iopub.execute_input": "2023-02-17T11:36:59.814774Z",
     "iopub.status.busy": "2023-02-17T11:36:59.814344Z",
     "iopub.status.idle": "2023-02-17T12:52:13.131911Z",
     "shell.execute_reply": "2023-02-17T12:52:13.130408Z",
     "shell.execute_reply.started": "2023-02-17T11:36:59.814739Z"
    }
   },
   "outputs": [],
   "source": [
    "#Run the model\n",
    "ann.compile(optimizer = 'adam', loss = 'binary_crossentropy', metrics = ['accuracy'])\n",
    "ann.fit(X_train, y_train, batch_size = 32, epochs = 100)"
   ]
  },
  {
   "attachments": {},
   "cell_type": "markdown",
   "metadata": {},
   "source": [
    "**We see that there is no large improvement throughout the epochs. The model starts to overfit very soon into the training. The accuracy is not that high either. We will now tune the hyperparameters to achieve better results.**"
   ]
  },
  {
   "cell_type": "code",
   "execution_count": null,
   "metadata": {
    "execution": {
     "iopub.execute_input": "2023-02-15T19:21:00.632135Z",
     "iopub.status.busy": "2023-02-15T19:21:00.631636Z",
     "iopub.status.idle": "2023-02-15T19:37:55.169889Z",
     "shell.execute_reply": "2023-02-15T19:37:55.168555Z",
     "shell.execute_reply.started": "2023-02-15T19:21:00.632097Z"
    }
   },
   "outputs": [],
   "source": [
    "#Create ANN\n",
    "ann = keras.models.Sequential()\n",
    "ann.add(Dense(units=305, activation='LeakyReLU', input_shape=X_train[0].shape))\n",
    "ann.add(Dropout(0.1))\n",
    "ann.add(Dense(units=153, activation='LeakyReLU'))\n",
    "ann.add(Dropout(0.1))\n",
    "ann.add(Dense(units=1, activation='sigmoid'))\n",
    "#Run the model\n",
    "ann.compile(optimizer = 'adam', loss = 'binary_crossentropy', metrics = ['accuracy'])\n",
    "hist = ann.fit(X_train, y_train, batch_size = 32, epochs = 20)"
   ]
  },
  {
   "cell_type": "code",
   "execution_count": null,
   "metadata": {
    "execution": {
     "iopub.execute_input": "2023-03-06T09:14:08.381718Z",
     "iopub.status.busy": "2023-03-06T09:14:08.380836Z",
     "iopub.status.idle": "2023-03-06T09:14:08.38768Z",
     "shell.execute_reply": "2023-03-06T09:14:08.386071Z",
     "shell.execute_reply.started": "2023-03-06T09:14:08.381672Z"
    }
   },
   "outputs": [],
   "source": [
    "#create and set training accuracy variable\n",
    "annTrainingAcc = hist.history['accuracy'][0]*100"
   ]
  },
  {
   "cell_type": "code",
   "execution_count": null,
   "metadata": {
    "execution": {
     "iopub.execute_input": "2023-02-15T19:58:33.879896Z",
     "iopub.status.busy": "2023-02-15T19:58:33.879391Z",
     "iopub.status.idle": "2023-02-15T19:58:40.901769Z",
     "shell.execute_reply": "2023-02-15T19:58:40.900254Z",
     "shell.execute_reply.started": "2023-02-15T19:58:33.879856Z"
    }
   },
   "outputs": [],
   "source": [
    "#Prediction on test set\n",
    "y_pred = ann.predict(X_test)\n",
    "#We will use a 50% threshold\n",
    "y_pred = (y_pred > 0.5)"
   ]
  },
  {
   "cell_type": "code",
   "execution_count": null,
   "metadata": {
    "execution": {
     "iopub.execute_input": "2023-03-06T09:14:11.26098Z",
     "iopub.status.busy": "2023-03-06T09:14:11.260616Z",
     "iopub.status.idle": "2023-03-06T09:14:11.28938Z",
     "shell.execute_reply": "2023-03-06T09:14:11.288687Z",
     "shell.execute_reply.started": "2023-03-06T09:14:11.260948Z"
    }
   },
   "outputs": [],
   "source": [
    "#Now let's create our Confusion Matrix\n",
    "from sklearn.metrics import confusion_matrix\n",
    "cm = confusion_matrix(y_test, y_pred)\n",
    "annTestAcc = (cm[0][0]+cm[1][1])/(cm[0][0]+cm[0][1]+cm[1][0]+cm[1][1]) * 100\n",
    "print(\"The ANN has a training accuracy of \" + str(annTrainingAcc) + \"%, and a test accuracy of \" + str(annTestAcc) + \"%\")"
   ]
  },
  {
   "attachments": {},
   "cell_type": "markdown",
   "metadata": {},
   "source": [
    "**We have a model that does not overfit or underfit - this is good. However, despite tuning the model, its accuracy remains low. I am open to any comments on how to improve my models. Thanks!**"
   ]
  }
 ],
 "metadata": {
  "kernelspec": {
   "display_name": "Python (learn-env)",
   "language": "python",
   "name": "learn-env"
  },
  "language_info": {
   "codemirror_mode": {
    "name": "ipython",
    "version": 3
   },
   "file_extension": ".py",
   "mimetype": "text/x-python",
   "name": "python",
   "nbconvert_exporter": "python",
   "pygments_lexer": "ipython3",
   "version": "3.9.13"
  }
 },
 "nbformat": 4,
 "nbformat_minor": 4
}
